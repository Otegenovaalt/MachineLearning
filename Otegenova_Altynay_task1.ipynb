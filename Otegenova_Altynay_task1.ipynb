{
 "cells": [
  {
   "cell_type": "code",
   "execution_count": null,
   "metadata": {},
   "outputs": [],
   "source": [
    "#Otegenova Altynay lab1\n",
    "\n",
    "import re\n",
    "import numpy as np\n",
    "from scipy.spatial.distance import cosine\n",
    "\n",
    "\n",
    "with open('sentences.txt', 'r') as f:\n",
    "\tsentences = []\n",
    "\twords = []\n",
    "\tfor line in f:\n",
    "\t\tline_list = re.split('[^a-z]', line.strip('\\\\n\\\\r.').lower())\n",
    "\t\tline_list = list(filter(None, line_list))\n",
    "\t\tsentences.append(line_list)\n",
    "\t\twords += line_list\n",
    "\n",
    "\t\twords_set = set(words)\n",
    "\t\ti = iter(range(len(words_set)))\n",
    "\t\twords_dict = {next(i):word for word in words_set}\n",
    "\n",
    "\t\tn, d = len(sentences), len(words_dict)\n",
    "\t\tword_matrix = np.zeros(shape=(n, d))\n",
    "\t\tfor i in range(n):\n",
    "\t\t\tfor j in range(d):\n",
    "\t\t\t\tword_matrix[i][j] = sentences[i].count(words_dict[j])\n",
    "\t\t\n",
    "\t\tcos_0 = []\n",
    "\t\tfor i in range(n):\n",
    "\t\t\tcos_0.append(cosine(word_matrix[0], word_matrix[i]))\n",
    "\t\tcos_0 = np.array(cos_0)\n",
    "\t\tcos_0[1:].argsort()\n",
    "\n",
    "print(cos_0[1:3])"
   ]
  },
  {
   "cell_type": "code",
   "execution_count": null,
   "metadata": {},
   "outputs": [],
   "source": []
  }
 ],
 "metadata": {
  "kernelspec": {
   "display_name": "Python 3",
   "language": "python",
   "name": "python3"
  },
  "language_info": {
   "codemirror_mode": {
    "name": "ipython",
    "version": 3
   },
   "file_extension": ".py",
   "mimetype": "text/x-python",
   "name": "python",
   "nbconvert_exporter": "python",
   "pygments_lexer": "ipython3",
   "version": "3.6.6"
  }
 },
 "nbformat": 4,
 "nbformat_minor": 2
}
