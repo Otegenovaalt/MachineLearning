# Otegenova Altynay lab1

import re
import numpy as np
from scipy.spatial.distance import cosine


with open('sentences.txt', 'r') as f:
	sentences = []
	words = []
	for line in f:
		line_list = re.split('[^a-z]', line.strip('\\n\\r.').lower())
		line_list = list(filter(None, line_list))
		sentences.append(line_list)
		words += line_list

		words_set = set(words)
		i = iter(range(len(words_set)))
		words_dict = {next(i):word for word in words_set}

		n, d = len(sentences), len(words_dict)
		word_matrix = np.zeros(shape=(n, d))
		for i in range(n):
			for j in range(d):
				word_matrix[i][j] = sentences[i].count(words_dict[j])
		
		cos_0 = []
		for i in range(n):
			cos_0.append(cosine(word_matrix[0], word_matrix[i]))
		cos_0 = np.array(cos_0)
		cos_0[1:].argsort()

print(cos_0[1:3])