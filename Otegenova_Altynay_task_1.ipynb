{
 "cells": [
  {
   "cell_type": "code",
   "execution_count": null,
   "metadata": {},
   "outputs": [],
   "source": [
    "import scipy.spatial\n",
    "import numpy as np\n",
    "import re\n",
    "\n",
    "with open(\"sentences\", \"r\") as file:\n",
    "    sentences = file.readlines()\n",
    "\n",
    "i = 0\n",
    "for sentence in sentences:\n",
    "    sentence = re.split('[^a-z]', sentence.lower())\n",
    "    \n",
    "    sentences[i] = filter(None, sentence)\n",
    "    i += 1\n",
    "\n",
    "word_index = dict()\n",
    "i = 0\n",
    "for sentence in sentences:\n",
    "    for word in sentence:\n",
    "        if word not in word_index:\n",
    "            word_index[word] = i\n",
    "            i += 1\n",
    "\n",
    "matrix = []\n",
    "for sent_i in xrange(0, len(sentences)):\n",
    "    matrix.append([0 for x in word_index])\n",
    "    \n",
    "    for word in sentences[sent_i]:\n",
    "        word_i = word_index[word]\n",
    "        matrix[sent_i][word_i] += 1\n",
    "\n",
    "np_matrix = np.array(matrix)\n",
    "\n",
    "distances = list()\n",
    "for i in range(len(sentences)):\n",
    "    distance = scipy.spatial.distance.cosine(np_matrix[0], np_matrix[i])\n",
    "    distances.append((i, distance))\n",
    "\n",
    "sorted_list = sorted(distances, key=lambda tup: tup[1])\n",
    "\n",
    "print sorted_list[1][0], sorted_list[2][0]"
   ]
  }
 ],
 "metadata": {
  "kernelspec": {
   "display_name": "Python 3",
   "language": "python",
   "name": "python3"
  },
  "language_info": {
   "codemirror_mode": {
    "name": "ipython",
    "version": 3
   },
   "file_extension": ".py",
   "mimetype": "text/x-python",
   "name": "python",
   "nbconvert_exporter": "python",
   "pygments_lexer": "ipython3",
   "version": "3.6.6"
  }
 },
 "nbformat": 4,
 "nbformat_minor": 2
}
