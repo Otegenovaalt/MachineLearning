{
 "cells": [
  {
   "cell_type": "code",
   "execution_count": null,
   "metadata": {},
   "outputs": [],
   "source": [
    "#task with graphic\n",
    "\n",
    "import scipy.linalg\n",
    "from numpy import sin, exp\n",
    "\n",
    "f_x = lambda x: sin(x / 5.0) * exp(x / 10.0) + 5 * exp(-x / 2.0)\n",
    "\n",
    "polynom_rank = 1\n",
    "A_1 = [\n",
    "    [1 ** n for n in range(0, polynom_rank + 1)],\n",
    "    [15 ** n for n in range(0, polynom_rank + 1)]\n",
    "]\n",
    "\n",
    "b_1 = [f_x(1), f_x(15)]\n",
    "\n",
    "\n",
    "scipy.linalg.solve(A_1, b_1)\n",
    "polynom_rank = 2\n",
    "A_2 = [\n",
    "    [1 ** n for n in range(0, polynom_rank + 1)],\n",
    "    [8 ** n for n in range(0, polynom_rank + 1)],\n",
    "    [15 ** n for n in range(0, polynom_rank + 1)]\n",
    "]\n",
    "\n",
    "b_2 = [f_x(1), f_x(8), f_x(15)]\n",
    "scipy.linalg.solve(A_2, b_2)\n",
    "\n",
    "\n",
    "polynom_rank = 3\n",
    "A_3 = [\n",
    "    [1 ** n for n in range(0, polynom_rank + 1)],\n",
    "    [4 ** n for n in range(0, polynom_rank + 1)],\n",
    "    [10 ** n for n in range(0, polynom_rank + 1)],\n",
    "    [15 ** n for n in range(0, polynom_rank + 1)]\n",
    "]\n",
    "\n",
    "b_3 = [f_x(1), f_x(4), f_x(10), f_x(15)]\n",
    "answer = scipy.linalg.solve(A_3, b_3)\n",
    "map(lambda x: x.round(2), answer)"
   ]
  }
 ],
 "metadata": {
  "kernelspec": {
   "display_name": "Python 3",
   "language": "python",
   "name": "python3"
  },
  "language_info": {
   "codemirror_mode": {
    "name": "ipython",
    "version": 3
   },
   "file_extension": ".py",
   "mimetype": "text/x-python",
   "name": "python",
   "nbconvert_exporter": "python",
   "pygments_lexer": "ipython3",
   "version": "3.6.6"
  }
 },
 "nbformat": 4,
 "nbformat_minor": 2
}
